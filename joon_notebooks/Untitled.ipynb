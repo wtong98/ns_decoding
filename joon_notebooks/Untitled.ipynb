{
 "cells": [
  {
   "cell_type": "code",
   "execution_count": 22,
   "metadata": {
    "ExecuteTime": {
     "end_time": "2020-04-28T19:31:59.794822Z",
     "start_time": "2020-04-28T19:31:59.791011Z"
    }
   },
   "outputs": [],
   "source": [
    "import numpy as np\n",
    "import matplotlib.pyplot as plt\n",
    "from matplotlib.backends.backend_pdf import PdfPages\n",
    "from tqdm import tnrange\n",
    "from scipy.stats import sem, t\n",
    "import os\n",
    "\n"
   ]
  },
  {
   "cell_type": "code",
   "execution_count": 2,
   "metadata": {
    "ExecuteTime": {
     "end_time": "2020-04-28T18:52:31.338016Z",
     "start_time": "2020-04-28T18:52:31.318238Z"
    }
   },
   "outputs": [],
   "source": [
    "true_imgs = np.load(\"/ssd/joon/2017_11_29_ns/images/test_images.npy\")\n",
    "dec_imgs = np.load(\"/ssd/joon/2017_11_29_ns/yass/decoded/yass_test_decoded.npy\")\n",
    "smooth_dec_imgs = np.load(\"/ssd/joon/2017_11_29_ns/yass/decoded/yass_smooth_test_decoded.npy\")"
   ]
  },
  {
   "cell_type": "code",
   "execution_count": 18,
   "metadata": {
    "ExecuteTime": {
     "end_time": "2020-04-28T19:00:56.047842Z",
     "start_time": "2020-04-28T19:00:52.810635Z"
    }
   },
   "outputs": [
    {
     "data": {
      "application/vnd.jupyter.widget-view+json": {
       "model_id": "0ec15c2774064cd089302a268f94fdfc",
       "version_major": 2,
       "version_minor": 0
      },
      "text/plain": [
       "HBox(children=(IntProgress(value=0, max=13870), HTML(value='')))"
      ]
     },
     "metadata": {},
     "output_type": "display_data"
    },
    {
     "name": "stdout",
     "output_type": "stream",
     "text": [
      "\n"
     ]
    },
    {
     "data": {
      "application/vnd.jupyter.widget-view+json": {
       "model_id": "1ff5307865a44f4587ebcf230de01ffa",
       "version_major": 2,
       "version_minor": 0
      },
      "text/plain": [
       "HBox(children=(IntProgress(value=0), HTML(value='')))"
      ]
     },
     "metadata": {},
     "output_type": "display_data"
    },
    {
     "name": "stdout",
     "output_type": "stream",
     "text": [
      "\n"
     ]
    },
    {
     "data": {
      "application/vnd.jupyter.widget-view+json": {
       "model_id": "0a909311f380475fb304baea72936b57",
       "version_major": 2,
       "version_minor": 0
      },
      "text/plain": [
       "HBox(children=(IntProgress(value=0), HTML(value='')))"
      ]
     },
     "metadata": {},
     "output_type": "display_data"
    },
    {
     "name": "stdout",
     "output_type": "stream",
     "text": [
      "\n"
     ]
    }
   ],
   "source": [
    "pix_corr_array = np.empty((true_imgs.shape[1], 2))\n",
    "img_corr_array = np.empty((true_imgs.shape[0], 2))\n",
    "mse_array = np.empty((true_imgs.shape[0], 2))\n",
    "\n",
    "for i in tnrange(true_imgs.shape[1]):\n",
    "    pix_corr_array[i,0] = np.corrcoef(true_imgs[:,i], dec_imgs[:,i])[0][1]\n",
    "    pix_corr_array[i,1] = np.corrcoef(true_imgs[:,i], smooth_dec_imgs[:,i])[0][1]\n",
    "\n",
    "for i in tnrange(true_imgs.shape[0]):\n",
    "    img_corr_array[i,0] = np.corrcoef(true_imgs[i,:], dec_imgs[i,:])[0][1]\n",
    "    img_corr_array[i,1] = np.corrcoef(true_imgs[i,:], smooth_dec_imgs[i,:])[0][1]\n",
    "    \n",
    "for i in tnrange(true_imgs.shape[0]):\n",
    "    mse_array[i,0] = np.sum((true_imgs[i,:] - dec_imgs[i,:])**2)/true_imgs.shape[1]\n",
    "    mse_array[i,1] = np.sum((true_imgs[i,:] - smooth_dec_imgs[i,:])**2)/true_imgs.shape[1]\n",
    "    \n",
    "mean_pix_array = np.mean(pix_corr_array, axis=0)\n",
    "pix_std_err = np.empty((pix_corr_array.shape[1],))\n",
    "confidence = 0.99\n",
    "for i in range(pix_std_err.shape[0]):\n",
    "    pix_std_err[i] = sem(pix_corr_array[:,i]) * t.ppf((1 + confidence) / 2, pix_corr_array[:,i].shape[0] - 1)\n",
    "    \n",
    "mean_img_array = np.mean(img_corr_array, axis=0)\n",
    "img_std_err = np.empty((img_corr_array.shape[1],))\n",
    "confidence = 0.99\n",
    "for i in range(img_std_err.shape[0]):\n",
    "    img_std_err[i] = sem(img_corr_array[:,i]) * t.ppf((1 + confidence) / 2, img_corr_array[:,i].shape[0] - 1)\n",
    "    \n",
    "mean_mse_array = np.mean(mse_array, axis=0)\n",
    "mse_std_err = np.empty((mse_array.shape[1]))\n",
    "confidence = 0.99\n",
    "for i in range(mse_std_err.shape[0]):\n",
    "    mse_std_err[i] = sem(mse_array[:,i]) * t.ppf((1 + confidence) / 2, mse_array[:,i].shape[0] - 1)"
   ]
  },
  {
   "cell_type": "code",
   "execution_count": 13,
   "metadata": {
    "ExecuteTime": {
     "end_time": "2020-04-28T18:55:51.012589Z",
     "start_time": "2020-04-28T18:55:50.877778Z"
    }
   },
   "outputs": [
    {
     "data": {
      "text/plain": [
       "Text(0.5, 1.0, 'PER PIXEL Test Corr versus TRUE Images')"
      ]
     },
     "execution_count": 13,
     "metadata": {},
     "output_type": "execute_result"
    },
    {
     "data": {
      "image/png": "[encoded data removed]",
      "text/plain": [
       "<Figure size 648x432 with 1 Axes>"
      ]
     },
     "metadata": {
      "needs_background": "light"
     },
     "output_type": "display_data"
    }
   ],
   "source": [
    "plt.figure(figsize = (9,6))\n",
    "bar_names = [\"Non-Smooth Dec\", \"Smooth Dec\"]\n",
    "plt.bar(np.arange(mean_pix_array.shape[0]), mean_pix_array, yerr=pix_std_err, tick_label = bar_names)\n",
    "plt.ylim(0.88,0.9)\n",
    "plt.title(\"PER PIXEL Test Corr versus TRUE Images\")"
   ]
  },
  {
   "cell_type": "code",
   "execution_count": 16,
   "metadata": {
    "ExecuteTime": {
     "end_time": "2020-04-28T18:56:18.136216Z",
     "start_time": "2020-04-28T18:56:18.014441Z"
    }
   },
   "outputs": [
    {
     "data": {
      "text/plain": [
       "(0.5, 1)"
      ]
     },
     "execution_count": 16,
     "metadata": {},
     "output_type": "execute_result"
    },
    {
     "data": {
      "image/png": "[encoded data removed]",
      "text/plain": [
       "<Figure size 648x432 with 1 Axes>"
      ]
     },
     "metadata": {
      "needs_background": "light"
     },
     "output_type": "display_data"
    }
   ],
   "source": [
    "plt.figure(figsize = (9,6))\n",
    "bar_names = [\"Non-Smooth Dec\", \"Smooth Dec\"]\n",
    "plt.bar(np.arange(mean_img_array.shape[0]), mean_img_array, yerr=img_std_err, tick_label = bar_names)\n",
    "plt.ylim(0.5,1)"
   ]
  },
  {
   "cell_type": "code",
   "execution_count": 19,
   "metadata": {
    "ExecuteTime": {
     "end_time": "2020-04-28T19:01:19.006031Z",
     "start_time": "2020-04-28T19:01:18.875959Z"
    }
   },
   "outputs": [
    {
     "data": {
      "text/plain": [
       "<BarContainer object of 2 artists>"
      ]
     },
     "execution_count": 19,
     "metadata": {},
     "output_type": "execute_result"
    },
    {
     "data": {
      "image/png": "[encoded data removed]",
      "text/plain": [
       "<Figure size 648x432 with 1 Axes>"
      ]
     },
     "metadata": {
      "needs_background": "light"
     },
     "output_type": "display_data"
    }
   ],
   "source": [
    "plt.figure(figsize = (9,6))\n",
    "bar_names = [\"Non-Smooth Dec\", \"Smooth Dec\"]\n",
    "plt.bar(np.arange(mean_mse_array.shape[0]), mean_mse_array, yerr=mse_std_err, tick_label = bar_names)\n",
    "#plt.ylim(0.5,1)"
   ]
  },
  {
   "cell_type": "code",
   "execution_count": null,
   "metadata": {},
   "outputs": [],
   "source": []
  },
  {
   "cell_type": "code",
   "execution_count": 31,
   "metadata": {
    "ExecuteTime": {
     "end_time": "2020-04-28T19:36:43.244809Z",
     "start_time": "2020-04-28T19:36:43.229949Z"
    }
   },
   "outputs": [],
   "source": [
    "def indiv_smooth_nonsmooth_compare(true, smooth_true, dec, smooth_dec):\n",
    "    fig, axs = plt.subplots(nrows=2, ncols=2, figsize = (10,7))\n",
    "    \n",
    "    vmin = min(np.min(true), np.min(smooth_true), np.min(dec), np.min(smooth_dec))\n",
    "    vmax = max(np.max(true), np.max(smooth_true), np.max(dec), np.max(smooth_dec))\n",
    "    \n",
    "    corr = np.corrcoef(true, dec)[0][1]\n",
    "    smooth_corr = np.corrcoef(true, smooth_dec)[0][1]\n",
    "    \n",
    "    axs[0,0].imshow(true.reshape((95,146)), vmin=vmin, vmax=vmax, cmap = \"Greys_r\")\n",
    "    axs[0,1].imshow(smooth_true.reshape((95,146)), vmin=vmin, vmax=vmax, cmap = \"Greys_r\")\n",
    "    axs[1,0].imshow(dec.reshape((95,146)), vmin=vmin, vmax=vmax, cmap = \"Greys_r\")\n",
    "    axs[1,1].imshow(smooth_dec.reshape((95,146)), vmin=vmin, vmax=vmax, cmap = \"Greys_r\")\n",
    "    \n",
    "    axs[0,0].set_title(\"True\")\n",
    "    axs[0,1].set_title(\"Smooth True\")\n",
    "    axs[1,0].set_title(\"Dec \"+str(round(corr, 4)))\n",
    "    axs[1,1].set_title(\"Smooth Dec \"+str(round(smooth_corr, 4)))\n",
    "    \n",
    "    axs[0,0].axis(\"off\")\n",
    "    axs[0,1].axis(\"off\")\n",
    "    axs[1,0].axis(\"off\")\n",
    "    axs[1,1].axis(\"off\")\n",
    "    \n",
    "    fig.tight_layout()\n",
    "    \n",
    "def multi_smooth_nonsmooth_compare(true_file, smooth_file, dec_file, smooth_dec_file, save_dir):\n",
    "    true_imgs = np.load(true_file)\n",
    "    smooth_imgs = np.load(smooth_file)\n",
    "    dec_imgs = np.load(dec_file)\n",
    "    smooth_dec_imgs = np.load(smooth_dec_file)\n",
    "    \n",
    "    with PdfPages(os.path.join(save_dir, \"smooth_nonsmooth_comparison.pdf\")) as pdf:\n",
    "        for i in tnrange(0,100):\n",
    "            true = true_imgs[i,:]\n",
    "            smooth_true = smooth_imgs[i,:]\n",
    "            dec = dec_imgs[i,:]\n",
    "            smooth_dec = smooth_dec_imgs[i,:]\n",
    "            \n",
    "            fig = indiv_smooth_nonsmooth_compare(true, smooth_true, dec, smooth_dec)\n",
    "            pdf.savefig(fig)\n",
    "            plt.close()"
   ]
  },
  {
   "cell_type": "code",
   "execution_count": 32,
   "metadata": {
    "ExecuteTime": {
     "end_time": "2020-04-28T19:36:58.251326Z",
     "start_time": "2020-04-28T19:36:43.366508Z"
    }
   },
   "outputs": [
    {
     "data": {
      "application/vnd.jupyter.widget-view+json": {
       "model_id": "9e10d3c6a3e7439c9095387768468441",
       "version_major": 2,
       "version_minor": 0
      },
      "text/plain": [
       "HBox(children=(IntProgress(value=0), HTML(value='')))"
      ]
     },
     "metadata": {},
     "output_type": "display_data"
    },
    {
     "name": "stdout",
     "output_type": "stream",
     "text": [
      "\n"
     ]
    }
   ],
   "source": [
    "true_file = \"/ssd/joon/2017_11_29_ns/images/test_images.npy\"\n",
    "smooth_file = \"/ssd/joon/2017_11_29_ns/images/smooth_test_images.npy\"\n",
    "dec_file = \"/ssd/joon/2017_11_29_ns/yass/decoded/yass_test_decoded.npy\"\n",
    "smooth_dec_file = \"/ssd/joon/2017_11_29_ns/yass/decoded/yass_smooth_test_decoded.npy\"\n",
    "save_dir = \"/ssd/joon/2017_11_29_ns/figures/\"\n",
    "\n",
    "\n",
    "multi_smooth_nonsmooth_compare(true_file, smooth_file, dec_file, smooth_dec_file, save_dir)"
   ]
  },
  {
   "cell_type": "code",
   "execution_count": null,
   "metadata": {},
   "outputs": [],
   "source": []
  },
  {
   "cell_type": "code",
   "execution_count": null,
   "metadata": {},
   "outputs": [],
   "source": []
  },
  {
   "cell_type": "code",
   "execution_count": null,
   "metadata": {},
   "outputs": [],
   "source": []
  },
  {
   "cell_type": "code",
   "execution_count": null,
   "metadata": {},
   "outputs": [],
   "source": []
  }
 ],
 "metadata": {
  "kernelspec": {
   "display_name": "Python 3",
   "language": "python",
   "name": "python3"
  },
  "language_info": {
   "codemirror_mode": {
    "name": "ipython",
    "version": 3
   },
   "file_extension": ".py",
   "mimetype": "text/x-python",
   "name": "python",
   "nbconvert_exporter": "python",
   "pygments_lexer": "ipython3",
   "version": "3.7.4"
  },
  "toc": {
   "base_numbering": 1,
   "nav_menu": {},
   "number_sections": true,
   "sideBar": true,
   "skip_h1_title": false,
   "title_cell": "Table of Contents",
   "title_sidebar": "Contents",
   "toc_cell": false,
   "toc_position": {},
   "toc_section_display": true,
   "toc_window_display": false
  }
 },
 "nbformat": 4,
 "nbformat_minor": 2
}
