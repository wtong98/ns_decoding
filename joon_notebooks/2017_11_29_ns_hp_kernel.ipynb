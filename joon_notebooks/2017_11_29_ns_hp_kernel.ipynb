{
 "cells": [
  {
   "cell_type": "code",
   "execution_count": 1,
   "metadata": {
    "ExecuteTime": {
     "end_time": "2020-04-24T07:33:13.189200Z",
     "start_time": "2020-04-24T07:33:12.875061Z"
    }
   },
   "outputs": [],
   "source": [
    "import numpy as np\n",
    "from sklearn.kernel_ridge import KernelRidge\n",
    "from sklearn.model_selection import GridSearchCV\n",
    "from sklearn.gaussian_process.kernels import RBF\n",
    "import os\n",
    "from scipy import sparse\n",
    "from tqdm import tnrange, tqdm_notebook\n",
    "from scipy.ndimage import gaussian_filter1d"
   ]
  },
  {
   "cell_type": "markdown",
   "metadata": {},
   "source": [
    "# Gaussian Smooth Neural"
   ]
  },
  {
   "cell_type": "code",
   "execution_count": 2,
   "metadata": {
    "ExecuteTime": {
     "end_time": "2020-04-24T07:07:39.141809Z",
     "start_time": "2020-04-24T07:07:39.137379Z"
    }
   },
   "outputs": [],
   "source": [
    "def gauss_smooth_neural(neural_file, sigma, radius, save_dir):\n",
    "    neural = np.load(neural_file)\n",
    "    \n",
    "    for n in tnrange(neural.shape[1]//50):\n",
    "        neural[:, n*50 : (n+1)*50] = gaussian_filter1d(neural[:,n*50 : (n+1)*50],\n",
    "                                                     axis=1, sigma=sigma, mode=\"constant\",\n",
    "                                                       cval=0.0, truncate=radius)\n",
    "    \n",
    "    np.save(os.path.join(save_dir, \"smooth_lin_50_test_neural.npy\"), neural)   "
   ]
  },
  {
   "cell_type": "code",
   "execution_count": 3,
   "metadata": {
    "ExecuteTime": {
     "end_time": "2020-04-24T07:07:39.840563Z",
     "start_time": "2020-04-24T07:07:39.305142Z"
    }
   },
   "outputs": [
    {
     "data": {
      "application/vnd.jupyter.widget-view+json": {
       "model_id": "44133eaecafe49dca15da355ef6f1846",
       "version_major": 2,
       "version_minor": 0
      },
      "text/plain": [
       "HBox(children=(IntProgress(value=0, max=2094), HTML(value='')))"
      ]
     },
     "metadata": {},
     "output_type": "display_data"
    },
    {
     "name": "stdout",
     "output_type": "stream",
     "text": [
      "\n"
     ]
    }
   ],
   "source": [
    "neural_file = \"/ssd/joon/2017_11_29_ns/yass/neural/yass_lin_50_test_neural.npy\"\n",
    "sigma=0.5\n",
    "radius=2\n",
    "save_dir = \"/ssd/joon/2017_11_29_ns/yass/neural/\"\n",
    "\n",
    "gauss_smooth_neural(neural_file, sigma, radius, save_dir)"
   ]
  },
  {
   "cell_type": "markdown",
   "metadata": {},
   "source": [
    "# Training/Validation for Kernel Ridge"
   ]
  },
  {
   "cell_type": "code",
   "execution_count": 2,
   "metadata": {
    "ExecuteTime": {
     "end_time": "2020-04-24T07:33:14.334650Z",
     "start_time": "2020-04-24T07:33:14.286152Z"
    },
    "code_folding": []
   },
   "outputs": [],
   "source": [
    "def kernel_reg(train_images_file, valid_images_file, train_neural_file,\n",
    "                     valid_neural_file, pixel_file, unit_dim, save_dir):\n",
    "    train_images = np.load(train_images_file)\n",
    "    valid_images = np.load(valid_images_file)\n",
    "    train_neural = np.load(train_neural_file)\n",
    "    valid_neural = np.load(valid_neural_file)\n",
    "    \n",
    "    pixel_units = np.load(pixel_file)\n",
    "    \n",
    "    image_no = train_images.shape[0]\n",
    "    pix_no = train_images.shape[1]\n",
    "    feat_no = train_neural.shape[1]\n",
    "    \n",
    "    # FOR SMOOTH# \n",
    "    param_grid = {\"alpha\": np.logspace(-2.5,2.5,5).tolist(),\n",
    "                  \"kernel\": [RBF(l) for l in np.logspace(-2, 3,5)]}\n",
    "   \n",
    "    kr = GridSearchCV(KernelRidge(), param_grid=param_grid, n_jobs=-1, cv=3)\n",
    "    \n",
    "    corr_sum = 0\n",
    "    decoded = np.empty((valid_images.shape[0], pix_no))\n",
    "    \n",
    "    for i in tnrange(pix_no):\n",
    "        train_pix_img = train_images[:,i]\n",
    "        unit_ids = pixel_units[i,:unit_dim]\n",
    "        neural_ids = np.empty((unit_dim*50))\n",
    "        for j in range(unit_dim):\n",
    "            unit = unit_ids[j]\n",
    "            neural_ids[j*50:(j+1)*50] = np.arange(unit*50,(unit+1)*50,1)\n",
    "        neural_ids = neural_ids.astype(int)\n",
    "        \n",
    "        train_pix_neural = train_neural[:, neural_ids]\n",
    "        valid_pix_neural = valid_neural[:, neural_ids]\n",
    "        \n",
    "        valid_pix_img = valid_images[:,i]\n",
    "        \n",
    "        kr.fit(train_pix_neural, train_pix_img)\n",
    "        print(kr.best_params_)\n",
    "        predict = kr.predict(valid_pix_neural)\n",
    "        decoded[:,i] = predict\n",
    "        \n",
    "        corr = np.corrcoef(valid_pix_img.reshape((-1,)), predict.reshape((-1,)))[0][1]\n",
    "        print(corr)\n",
    "        corr_sum += corr\n",
    "        \n",
    "        if i%500 == 499:\n",
    "            np.save(os.path.join(save_dir, \"yass_0_to_\"+str(i)+\"_kern10_hp_decoded.npy\"), decoded[:,:i+1])\n",
    "        \n",
    "    print(\"Pix \"+str(i), corr_sum/pix_no)\n",
    "    \n",
    "    np.save(os.path.join(save_dir, \"yass_FULL_kern10_hp_decoded.npy\"), decoded)"
   ]
  },
  {
   "cell_type": "code",
   "execution_count": null,
   "metadata": {
    "ExecuteTime": {
     "start_time": "2020-04-24T07:33:14.453Z"
    },
    "scrolled": false
   },
   "outputs": [
    {
     "data": {
      "application/vnd.jupyter.widget-view+json": {
       "model_id": "56cf0f5c0b404a8d84fc8f7cac1ac9da",
       "version_major": 2,
       "version_minor": 0
      },
      "text/plain": [
       "HBox(children=(IntProgress(value=0, max=13870), HTML(value='')))"
      ]
     },
     "metadata": {},
     "output_type": "display_data"
    },
    {
     "name": "stdout",
     "output_type": "stream",
     "text": [
      "{'alpha': 0.0031622776601683794, 'kernel': RBF(length_scale=1e+03)}\n",
      "0.3220115247712431\n",
      "{'alpha': 0.0031622776601683794, 'kernel': RBF(length_scale=1e+03)}\n",
      "0.31447876051107815\n",
      "{'alpha': 0.0031622776601683794, 'kernel': RBF(length_scale=1e+03)}\n",
      "0.4183999795549337\n",
      "{'alpha': 0.0031622776601683794, 'kernel': RBF(length_scale=1e+03)}\n",
      "0.3664740237817178\n",
      "{'alpha': 1.0, 'kernel': RBF(length_scale=3.16)}\n",
      "0.2755376505813489\n",
      "{'alpha': 1.0, 'kernel': RBF(length_scale=3.16)}\n",
      "0.4163450295195238\n",
      "{'alpha': 1.0, 'kernel': RBF(length_scale=56.2)}\n",
      "0.297594299660028\n",
      "{'alpha': 1.0, 'kernel': RBF(length_scale=3.16)}\n",
      "0.10128236256499076\n",
      "{'alpha': 1.0, 'kernel': RBF(length_scale=3.16)}\n",
      "0.013410244920753234\n",
      "{'alpha': 0.0031622776601683794, 'kernel': RBF(length_scale=1e+03)}\n",
      "0.12036146572987369\n",
      "{'alpha': 0.0031622776601683794, 'kernel': RBF(length_scale=1e+03)}\n",
      "0.265159193107245\n",
      "{'alpha': 0.0031622776601683794, 'kernel': RBF(length_scale=1e+03)}\n",
      "0.356421693195756\n",
      "{'alpha': 0.05623413251903491, 'kernel': RBF(length_scale=56.2)}\n",
      "0.31715549912826113\n",
      "{'alpha': 0.05623413251903491, 'kernel': RBF(length_scale=56.2)}\n",
      "0.24707142830886047\n",
      "{'alpha': 0.05623413251903491, 'kernel': RBF(length_scale=56.2)}\n",
      "0.2946880935990508\n",
      "{'alpha': 0.05623413251903491, 'kernel': RBF(length_scale=56.2)}\n",
      "0.32032552709152823\n",
      "{'alpha': 0.0031622776601683794, 'kernel': RBF(length_scale=1e+03)}\n",
      "0.3151129497167754\n",
      "{'alpha': 0.0031622776601683794, 'kernel': RBF(length_scale=1e+03)}\n",
      "0.3195264458514957\n",
      "{'alpha': 0.0031622776601683794, 'kernel': RBF(length_scale=1e+03)}\n",
      "0.3243040971132916\n",
      "{'alpha': 0.0031622776601683794, 'kernel': RBF(length_scale=1e+03)}\n",
      "0.24288882604003592\n",
      "{'alpha': 0.0031622776601683794, 'kernel': RBF(length_scale=1e+03)}\n",
      "0.290605112103832\n",
      "{'alpha': 0.0031622776601683794, 'kernel': RBF(length_scale=1e+03)}\n",
      "0.26425843331072474\n",
      "{'alpha': 0.0031622776601683794, 'kernel': RBF(length_scale=1e+03)}\n",
      "0.31148927904324203\n",
      "{'alpha': 0.05623413251903491, 'kernel': RBF(length_scale=56.2)}\n",
      "0.38492760415086913\n",
      "{'alpha': 0.05623413251903491, 'kernel': RBF(length_scale=56.2)}\n",
      "0.27438416470033217\n",
      "{'alpha': 0.05623413251903491, 'kernel': RBF(length_scale=56.2)}\n",
      "0.31047731106673143\n",
      "{'alpha': 0.05623413251903491, 'kernel': RBF(length_scale=56.2)}\n",
      "0.2776276992373921\n",
      "{'alpha': 0.05623413251903491, 'kernel': RBF(length_scale=56.2)}\n",
      "0.29896793470918887\n",
      "{'alpha': 0.05623413251903491, 'kernel': RBF(length_scale=56.2)}\n",
      "0.16311411358097616\n",
      "{'alpha': 0.05623413251903491, 'kernel': RBF(length_scale=56.2)}\n",
      "0.22710334628281492\n",
      "{'alpha': 0.0031622776601683794, 'kernel': RBF(length_scale=1e+03)}\n",
      "0.2750931816882132\n",
      "{'alpha': 0.0031622776601683794, 'kernel': RBF(length_scale=1e+03)}\n",
      "0.4552756533653386\n",
      "{'alpha': 0.0031622776601683794, 'kernel': RBF(length_scale=1e+03)}\n",
      "0.6020627851369946\n",
      "{'alpha': 0.05623413251903491, 'kernel': RBF(length_scale=56.2)}\n",
      "0.6435582702223028\n",
      "{'alpha': 0.05623413251903491, 'kernel': RBF(length_scale=56.2)}\n",
      "0.48792549868220997\n",
      "{'alpha': 0.05623413251903491, 'kernel': RBF(length_scale=56.2)}\n",
      "0.46628399320016406\n",
      "{'alpha': 0.05623413251903491, 'kernel': RBF(length_scale=56.2)}\n",
      "0.44689921903213853\n",
      "{'alpha': 0.05623413251903491, 'kernel': RBF(length_scale=56.2)}\n",
      "0.5145629511265455\n",
      "{'alpha': 0.05623413251903491, 'kernel': RBF(length_scale=56.2)}\n",
      "0.37799188154934166\n",
      "{'alpha': 0.0031622776601683794, 'kernel': RBF(length_scale=1e+03)}\n",
      "0.33393337376624765\n",
      "{'alpha': 0.0031622776601683794, 'kernel': RBF(length_scale=1e+03)}\n",
      "0.3415378026761556\n",
      "{'alpha': 0.0031622776601683794, 'kernel': RBF(length_scale=1e+03)}\n",
      "0.33797118373756835\n",
      "{'alpha': 1.0, 'kernel': RBF(length_scale=56.2)}\n",
      "0.18999121978734831\n",
      "{'alpha': 0.0031622776601683794, 'kernel': RBF(length_scale=1e+03)}\n",
      "0.32697104828480705\n",
      "{'alpha': 0.0031622776601683794, 'kernel': RBF(length_scale=1e+03)}\n",
      "0.4232879468835979\n",
      "{'alpha': 0.0031622776601683794, 'kernel': RBF(length_scale=1e+03)}\n",
      "0.40516349566656445\n",
      "{'alpha': 0.0031622776601683794, 'kernel': RBF(length_scale=1e+03)}\n",
      "0.3297639744664761\n",
      "{'alpha': 0.0031622776601683794, 'kernel': RBF(length_scale=1e+03)}\n",
      "0.3510006227135141\n",
      "{'alpha': 0.0031622776601683794, 'kernel': RBF(length_scale=1e+03)}\n",
      "0.37180661744009763\n",
      "{'alpha': 0.0031622776601683794, 'kernel': RBF(length_scale=1e+03)}\n",
      "0.35130830418265235\n",
      "{'alpha': 0.0031622776601683794, 'kernel': RBF(length_scale=1e+03)}\n",
      "0.3839852617660021\n",
      "{'alpha': 0.05623413251903491, 'kernel': RBF(length_scale=56.2)}\n",
      "0.1864161551850405\n",
      "{'alpha': 0.05623413251903491, 'kernel': RBF(length_scale=56.2)}\n",
      "0.16819949271753862\n",
      "{'alpha': 0.05623413251903491, 'kernel': RBF(length_scale=56.2)}\n",
      "0.23625273130635005\n",
      "{'alpha': 0.0031622776601683794, 'kernel': RBF(length_scale=1e+03)}\n",
      "0.1903991292799337\n",
      "{'alpha': 0.0031622776601683794, 'kernel': RBF(length_scale=1e+03)}\n",
      "0.2676107512370416\n",
      "{'alpha': 0.0031622776601683794, 'kernel': RBF(length_scale=1e+03)}\n",
      "0.2391217232478255\n",
      "{'alpha': 0.0031622776601683794, 'kernel': RBF(length_scale=1e+03)}\n",
      "0.20035608001246405\n",
      "{'alpha': 0.0031622776601683794, 'kernel': RBF(length_scale=1e+03)}\n",
      "0.18963998388687026\n",
      "{'alpha': 0.0031622776601683794, 'kernel': RBF(length_scale=1e+03)}\n",
      "0.14485992384955382\n",
      "{'alpha': 0.0031622776601683794, 'kernel': RBF(length_scale=1e+03)}\n",
      "0.1932768675781249\n",
      "{'alpha': 0.0031622776601683794, 'kernel': RBF(length_scale=1e+03)}\n",
      "0.31630787781469444\n",
      "{'alpha': 0.0031622776601683794, 'kernel': RBF(length_scale=1e+03)}\n",
      "0.23621535062587212\n",
      "{'alpha': 0.0031622776601683794, 'kernel': RBF(length_scale=1e+03)}\n",
      "0.2654329826636779\n"
     ]
    }
   ],
   "source": [
    "train_images_file = \"/ssd/joon/2017_11_29_ns/images/hp_train_images.npy\"\n",
    "train_neural_file = \"/ssd/joon/2017_11_29_ns/yass/neural/smooth_lin_50_train_neural.npy\"\n",
    "valid_images_file = \"/ssd/joon/2017_11_29_ns/images/hp_test_images.npy\"\n",
    "valid_neural_file = \"/ssd/joon/2017_11_29_ns/yass/neural/smooth_lin_50_test_neural.npy\"\n",
    "pixel_file = \"/ssd/joon/2017_11_29_ns/yass/yass_l1_pixel_units.npy\"\n",
    "save_dir = \"/ssd/joon/2017_11_29_ns/yass/kern_partial/\"\n",
    "unit_dim = 10\n",
    "\n",
    "\n",
    "\n",
    "\n",
    "kernel_reg(train_images_file, valid_images_file, train_neural_file, valid_neural_file,\n",
    "                 pixel_file, unit_dim, save_dir)"
   ]
  },
  {
   "cell_type": "code",
   "execution_count": null,
   "metadata": {},
   "outputs": [],
   "source": []
  },
  {
   "cell_type": "code",
   "execution_count": 6,
   "metadata": {
    "ExecuteTime": {
     "end_time": "2020-04-15T04:44:43.604340Z",
     "start_time": "2020-04-15T04:44:43.599291Z"
    }
   },
   "outputs": [
    {
     "name": "stdout",
     "output_type": "stream",
     "text": [
      "[ 0.1         0.27542287  0.75857758  2.08929613  5.75439937 15.84893192]\n"
     ]
    }
   ],
   "source": [
    "print(np.logspace(-1,1.2,6))"
   ]
  },
  {
   "cell_type": "code",
   "execution_count": 6,
   "metadata": {
    "ExecuteTime": {
     "end_time": "2020-04-15T05:25:28.900123Z",
     "start_time": "2020-04-15T05:25:28.893727Z"
    }
   },
   "outputs": [
    {
     "name": "stdout",
     "output_type": "stream",
     "text": [
      "[  5.01187234  10.          19.95262315  39.81071706  79.43282347\n",
      " 158.48931925]\n"
     ]
    }
   ],
   "source": [
    "print(np.logspace(0.7, 2.2,6))"
   ]
  },
  {
   "cell_type": "code",
   "execution_count": null,
   "metadata": {},
   "outputs": [],
   "source": []
  }
 ],
 "metadata": {
  "kernelspec": {
   "display_name": "Python 3",
   "language": "python",
   "name": "python3"
  },
  "language_info": {
   "codemirror_mode": {
    "name": "ipython",
    "version": 3
   },
   "file_extension": ".py",
   "mimetype": "text/x-python",
   "name": "python",
   "nbconvert_exporter": "python",
   "pygments_lexer": "ipython3",
   "version": "3.7.4"
  },
  "toc": {
   "base_numbering": 1,
   "nav_menu": {},
   "number_sections": true,
   "sideBar": true,
   "skip_h1_title": false,
   "title_cell": "Table of Contents",
   "title_sidebar": "Contents",
   "toc_cell": false,
   "toc_position": {},
   "toc_section_display": true,
   "toc_window_display": false
  }
 },
 "nbformat": 4,
 "nbformat_minor": 2
}
