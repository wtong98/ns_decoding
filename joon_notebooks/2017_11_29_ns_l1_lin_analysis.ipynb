{
 "cells": [
  {
   "cell_type": "code",
   "execution_count": 1,
   "metadata": {
    "ExecuteTime": {
     "end_time": "2020-04-25T16:31:00.415584Z",
     "start_time": "2020-04-25T16:30:59.661278Z"
    }
   },
   "outputs": [],
   "source": [
    "import numpy as np\n",
    "import os\n",
    "from tqdm import tnrange, tqdm_notebook\n",
    "import matplotlib.pyplot as plt\n",
    "import time\n",
    "import scipy\n",
    "from matplotlib.backends.backend_pdf import PdfPages\n",
    "from scipy.stats import sem, t\n",
    "\n"
   ]
  },
  {
   "cell_type": "markdown",
   "metadata": {},
   "source": [
    "# Plot/Analyze L1 Weights"
   ]
  },
  {
   "cell_type": "code",
   "execution_count": 2,
   "metadata": {
    "ExecuteTime": {
     "end_time": "2020-04-19T22:52:57.339663Z",
     "start_time": "2020-04-19T22:52:57.308573Z"
    },
    "code_folding": []
   },
   "outputs": [],
   "source": [
    "def unit_l1_norms(weights_file, save_dir):\n",
    "    weights = np.load(weights_file)\n",
    "    norm_array = np.empty((weights.shape[1], weights.shape[0]//50))\n",
    "    for n in tnrange(weights.shape[0]//50):\n",
    "        for x in range(weights.shape[1]):\n",
    "            norm = np.sum(np.abs(weights[n*50:(n+1)*50, x]))\n",
    "            norm_array[x,n] = norm\n",
    "            \n",
    "    unit_per_pixel = np.empty((weights.shape[1], weights.shape[0]//50))\n",
    "    for x in tnrange(norm_array.shape[0]):\n",
    "        best_units = np.flip(np.argsort(norm_array[x,:]))\n",
    "        unit_per_pixel[x,:] = best_units\n",
    "    \n",
    "    sum_norms = np.empty((weights.shape[0]//50))\n",
    "    for n in tnrange(weights.shape[0]//50):\n",
    "        unit_norm = np.sum(norm_array[:,n])\n",
    "        sum_norms[n] = unit_norm\n",
    "    \n",
    "    sorted_units = np.argsort(sum_norms)\n",
    "    sorted_units = np.flip(sorted_units)\n",
    "    \n",
    "    print(unit_per_pixel.shape)\n",
    "    print(sorted_units.shape)\n",
    "  \n",
    "    np.save(os.path.join(save_dir, \"yass_l1_pixel_units.npy\"), unit_per_pixel)\n",
    "    np.save(os.path.join(save_dir, \"yass_l1_sorted_units.npy\"), sorted_units)    "
   ]
  },
  {
   "cell_type": "code",
   "execution_count": 3,
   "metadata": {
    "ExecuteTime": {
     "end_time": "2020-04-19T22:56:15.495527Z",
     "start_time": "2020-04-19T22:52:57.342354Z"
    },
    "scrolled": true
   },
   "outputs": [
    {
     "data": {
      "application/vnd.jupyter.widget-view+json": {
       "model_id": "4c806f81af2b499393c580d1aa827865",
       "version_major": 2,
       "version_minor": 0
      },
      "text/plain": [
       "HBox(children=(IntProgress(value=0, max=2094), HTML(value='')))"
      ]
     },
     "metadata": {},
     "output_type": "display_data"
    },
    {
     "name": "stdout",
     "output_type": "stream",
     "text": [
      "\n"
     ]
    },
    {
     "data": {
      "application/vnd.jupyter.widget-view+json": {
       "model_id": "3f38282bbf0d4a5b970da77fed118894",
       "version_major": 2,
       "version_minor": 0
      },
      "text/plain": [
       "HBox(children=(IntProgress(value=0, max=13870), HTML(value='')))"
      ]
     },
     "metadata": {},
     "output_type": "display_data"
    },
    {
     "name": "stdout",
     "output_type": "stream",
     "text": [
      "\n"
     ]
    },
    {
     "data": {
      "application/vnd.jupyter.widget-view+json": {
       "model_id": "8262c0755def4977b6ac73095ed17c91",
       "version_major": 2,
       "version_minor": 0
      },
      "text/plain": [
       "HBox(children=(IntProgress(value=0, max=2094), HTML(value='')))"
      ]
     },
     "metadata": {},
     "output_type": "display_data"
    },
    {
     "name": "stdout",
     "output_type": "stream",
     "text": [
      "\n",
      "(13870, 2094)\n",
      "(2094,)\n"
     ]
    }
   ],
   "source": [
    "weights_file = \"/ssd/joon/2017_11_29_ns/yass/weights/yass_l1_weights.npy\"\n",
    "save_dir = \"/ssd/joon/2017_11_29_ns/yass/\"\n",
    "\n",
    "\n",
    "unit_l1_norms(weights_file, save_dir)"
   ]
  },
  {
   "cell_type": "code",
   "execution_count": 4,
   "metadata": {
    "ExecuteTime": {
     "end_time": "2020-04-19T23:17:07.878951Z",
     "start_time": "2020-04-19T23:17:07.862662Z"
    },
    "code_folding": []
   },
   "outputs": [],
   "source": [
    "def plot_l1_weights(unit_weights, unit):\n",
    "\n",
    "    temp_weights = np.mean(unit_weights, axis=1)\n",
    "    max_time = np.argmax(temp_weights)\n",
    "    min_time = np.argmin(temp_weights)\n",
    "    on_weights = unit_weights[min(max_time,min_time), :]\n",
    "    off_weights = unit_weights[max(max_time,min_time), :]\n",
    "        \n",
    "    fig, axs = plt.subplots(nrows=3, figsize = (5,7))\n",
    "    on = axs[0].imshow(on_weights.reshape((95,146)))\n",
    "    off = axs[1].imshow(off_weights.reshape((95,146)))\n",
    "    axs[2].plot(temp_weights)\n",
    "    \n",
    "    axs[0].axis(\"off\")\n",
    "    axs[1].axis(\"off\")\n",
    "    \n",
    "    axs[0].set_title(\"ON Spatial\")\n",
    "    axs[1].set_title(\"OFF Spatial\")\n",
    "    axs[2].set_title(\"Temporal\")\n",
    "    \n",
    "    fig.suptitle(\"Unit \"+str(unit)+\" L1 Weights\")\n",
    "    \n",
    "    plt.colorbar(on, ax=axs[0], shrink = 0.75)\n",
    "    plt.colorbar(off, ax=axs[1], shrink = 0.75)\n",
    "    \n",
    "def multi_plot_l1_weights(weights_file, sorted_file, unit_no, save_dir):\n",
    "    weights = np.load(weights_file)\n",
    "    sorted_units = np.load(sorted_file)\n",
    "    \n",
    "    with PdfPages(os.path.join(save_dir, \"yass_l1_weights.pdf\")) as pdf:\n",
    "        for i in tnrange(unit_no):\n",
    "            unit = sorted_units[i]\n",
    "            unit_weights = weights[unit*50 : (unit+1)*50, :]\n",
    "            fig = plot_l1_weights(unit_weights, unit)\n",
    "            pdf.savefig(fig)\n",
    "            plt.close()    "
   ]
  },
  {
   "cell_type": "code",
   "execution_count": 5,
   "metadata": {
    "ExecuteTime": {
     "end_time": "2020-04-19T23:22:43.991007Z",
     "start_time": "2020-04-19T23:17:08.036606Z"
    }
   },
   "outputs": [
    {
     "data": {
      "application/vnd.jupyter.widget-view+json": {
       "model_id": "5929a78b93de4c5391c93a9b9f66639a",
       "version_major": 2,
       "version_minor": 0
      },
      "text/plain": [
       "HBox(children=(IntProgress(value=0, max=2094), HTML(value='')))"
      ]
     },
     "metadata": {},
     "output_type": "display_data"
    },
    {
     "name": "stdout",
     "output_type": "stream",
     "text": [
      "\n"
     ]
    }
   ],
   "source": [
    "weights_file = \"/ssd/joon/2017_11_29_ns/yass/weights/yass_l1_weights.npy\"\n",
    "sorted_file = \"/ssd/joon/2017_11_29_ns/yass/yass_l1_sorted_units.npy\"\n",
    "save_dir = \"/ssd/joon/2017_11_29_ns/figures/\"\n",
    "unit_no = 2094\n",
    "\n",
    "multi_plot_l1_weights(weights_file, sorted_file, unit_no, save_dir)"
   ]
  },
  {
   "cell_type": "markdown",
   "metadata": {},
   "source": [
    "# Corr Values"
   ]
  },
  {
   "cell_type": "code",
   "execution_count": 8,
   "metadata": {
    "ExecuteTime": {
     "end_time": "2020-04-20T02:06:26.163427Z",
     "start_time": "2020-04-20T02:06:26.140820Z"
    }
   },
   "outputs": [],
   "source": [
    "lasso = np.load(\"/ssd/joon/2017_11_29_ns/yass/decoded/yass_l1_smooth_decoded.npy\")\n",
    "ridge = np.load(\"/ssd/joon/2017_11_29_ns/yass/decoded/yass_smooth_test_decoded.npy\")\n",
    "true = np.load(\"/ssd/joon/2017_11_29_ns/images/smooth_test_images.npy\")"
   ]
  },
  {
   "cell_type": "code",
   "execution_count": 13,
   "metadata": {
    "ExecuteTime": {
     "end_time": "2020-04-20T02:11:16.339731Z",
     "start_time": "2020-04-20T02:11:16.290426Z"
    }
   },
   "outputs": [
    {
     "data": {
      "application/vnd.jupyter.widget-view+json": {
       "model_id": "8195c60cf95b40b0b1ea4dd565f19a07",
       "version_major": 2,
       "version_minor": 0
      },
      "text/plain": [
       "HBox(children=(IntProgress(value=0), HTML(value='')))"
      ]
     },
     "metadata": {},
     "output_type": "display_data"
    },
    {
     "name": "stdout",
     "output_type": "stream",
     "text": [
      "\n",
      "0.9819614864908744 0.98298711560722\n"
     ]
    }
   ],
   "source": [
    "lasso_corr = np.empty((true.shape[0]))\n",
    "\n",
    "for i in tnrange(true.shape[0]):\n",
    "    corr = np.corrcoef(lasso[:,i], true[:,i])[0][1]\n",
    "    lasso_corr[i] = corr\n",
    "\n",
    "confidence = 0.99\n",
    "\n",
    "lasso_std_err = sem(lasso_corr) * t.ppf((1+confidence)/2, lasso_corr.shape[0]-1)\n",
    "lasso_mean = np.mean(lasso_corr)\n",
    "\n",
    "print(lasso_mean - lasso_std_err, lasso_mean + lasso_std_err)"
   ]
  },
  {
   "cell_type": "code",
   "execution_count": 14,
   "metadata": {
    "ExecuteTime": {
     "end_time": "2020-04-20T02:11:16.510943Z",
     "start_time": "2020-04-20T02:11:16.460410Z"
    }
   },
   "outputs": [
    {
     "data": {
      "application/vnd.jupyter.widget-view+json": {
       "model_id": "916a1e09e6d84c77b93aa0138a4a661b",
       "version_major": 2,
       "version_minor": 0
      },
      "text/plain": [
       "HBox(children=(IntProgress(value=0), HTML(value='')))"
      ]
     },
     "metadata": {},
     "output_type": "display_data"
    },
    {
     "name": "stdout",
     "output_type": "stream",
     "text": [
      "\n",
      "0.9851923304826427 0.9861636331585901\n"
     ]
    }
   ],
   "source": [
    "ridge_corr = np.empty((true.shape[0]))\n",
    "\n",
    "for i in tnrange(true.shape[0]):\n",
    "    corr = np.corrcoef(ridge[:,i], true[:,i])[0][1]\n",
    "    ridge_corr[i] = corr\n",
    "    \n",
    "ridge_std_err = sem(ridge_corr) * t.ppf((1+confidence)/2, ridge_corr.shape[0]-1)\n",
    "ridge_mean = np.mean(ridge_corr)\n",
    "\n",
    "print(ridge_mean - ridge_std_err, ridge_mean + ridge_std_err)"
   ]
  },
  {
   "cell_type": "code",
   "execution_count": 18,
   "metadata": {
    "ExecuteTime": {
     "end_time": "2020-04-20T02:12:14.677063Z",
     "start_time": "2020-04-20T02:12:14.537314Z"
    }
   },
   "outputs": [
    {
     "data": {
      "text/plain": [
       "Text(0.5, 1.0, 'Smooth Decoded Test Corr Comparison +/- 99% CI')"
      ]
     },
     "execution_count": 18,
     "metadata": {},
     "output_type": "execute_result"
    },
    {
     "data": {
      "image/png": "[encoded data removed]",
      "text/plain": [
       "<Figure size 432x432 with 1 Axes>"
      ]
     },
     "metadata": {
      "needs_background": "light"
     },
     "output_type": "display_data"
    }
   ],
   "source": [
    "fig, axs = plt.subplots(figsize = (6,6))\n",
    "    \n",
    "bar_names = [\"Lasso Smooth\", \"Ridge Smooth\"]\n",
    "    \n",
    "plt.bar([0,1], [lasso_mean, ridge_mean], yerr=[lasso_std_err, ridge_std_err], tick_label = bar_names) \n",
    "plt.ylim(0.98,0.988)\n",
    "plt.title(\"Smooth Decoded Test Corr Comparison +/- 99% CI\")"
   ]
  },
  {
   "cell_type": "markdown",
   "metadata": {},
   "source": [
    "# L1 vs L2 Decoding Plots"
   ]
  },
  {
   "cell_type": "code",
   "execution_count": 2,
   "metadata": {
    "ExecuteTime": {
     "end_time": "2020-04-25T16:31:04.126272Z",
     "start_time": "2020-04-25T16:31:04.109126Z"
    }
   },
   "outputs": [],
   "source": [
    "def indiv_compare_plots(true_img, lasso_img, ridge_img, index):\n",
    "    fig, axs = plt.subplots(ncols=3, figsize = (11,5))\n",
    "    \n",
    "    lasso_corr = np.corrcoef(true_img, lasso_img)[0][1]\n",
    "    ridge_corr = np.corrcoef(true_img, ridge_img)[0][1]\n",
    "    \n",
    "    axs[0].imshow(true_img.reshape((95,146)))\n",
    "    axs[0].set_title(\"Img \"+str(index)+\": True\")\n",
    "    \n",
    "    axs[1].imshow(ridge_img.reshape((95,146)))\n",
    "    axs[1].set_title(\"Img \"+str(index)+\": Ridge (\" +str(round(ridge_corr, 4))+\")\")\n",
    "    \n",
    "    axs[2].imshow(lasso_img.reshape((95,146)))\n",
    "    axs[2].set_title(\"Img \"+str(index)+\": LASSO (\"+str(round(lasso_corr, 4))+\")\")\n",
    "    \n",
    "    fig.tight_layout()\n",
    "\n",
    "def multi_compare_plots(true_file, lasso_file, ridge_file, plot_no, save_dir):\n",
    "    true_images = np.load(true_file)\n",
    "    lasso_images = np.load(lasso_file)\n",
    "    ridge_images = np.load(ridge_file)\n",
    "    \n",
    "    with PdfPages(os.path.join(save_dir, \"lasso_ridge_smooth_comparison.pdf\")) as pdf:\n",
    "        for i in tnrange(0,plot_no):\n",
    "            true_img = true_images[i,:]\n",
    "            lasso_img = lasso_images[i,:]\n",
    "            ridge_img = ridge_images[i,:]\n",
    "            \n",
    "            fig = indiv_compare_plots(true_img, lasso_img, ridge_img, i)\n",
    "            pdf.savefig(fig)\n",
    "            plt.close()\n"
   ]
  },
  {
   "cell_type": "code",
   "execution_count": 3,
   "metadata": {
    "ExecuteTime": {
     "end_time": "2020-04-25T16:31:33.451216Z",
     "start_time": "2020-04-25T16:31:04.273427Z"
    }
   },
   "outputs": [
    {
     "data": {
      "application/vnd.jupyter.widget-view+json": {
       "model_id": "22f95f0ffa1e44ca939fcfc90168f527",
       "version_major": 2,
       "version_minor": 0
      },
      "text/plain": [
       "HBox(children=(IntProgress(value=0), HTML(value='')))"
      ]
     },
     "metadata": {},
     "output_type": "display_data"
    },
    {
     "name": "stdout",
     "output_type": "stream",
     "text": [
      "\n"
     ]
    }
   ],
   "source": [
    "true_file = \"/ssd/joon/2017_11_29_ns/images/smooth_test_images.npy\"\n",
    "lasso_file = \"/ssd/joon/2017_11_29_ns/yass/decoded/yass_l1_smooth_decoded.npy\"\n",
    "ridge_file = \"/ssd/joon/2017_11_29_ns/yass/decoded/yass_smooth_test_decoded.npy\"\n",
    "plot_no = 100\n",
    "save_dir = \"/ssd/joon/2017_11_29_ns/figures/\"\n",
    "\n",
    "\n",
    "\n",
    "\n",
    "multi_compare_plots(true_file, lasso_file, ridge_file, plot_no, save_dir)"
   ]
  },
  {
   "cell_type": "markdown",
   "metadata": {},
   "source": [
    "# Full Image Decoding Plots"
   ]
  },
  {
   "cell_type": "code",
   "execution_count": null,
   "metadata": {},
   "outputs": [],
   "source": []
  }
 ],
 "metadata": {
  "kernelspec": {
   "display_name": "Python 3",
   "language": "python",
   "name": "python3"
  },
  "language_info": {
   "codemirror_mode": {
    "name": "ipython",
    "version": 3
   },
   "file_extension": ".py",
   "mimetype": "text/x-python",
   "name": "python",
   "nbconvert_exporter": "python",
   "pygments_lexer": "ipython3",
   "version": "3.7.4"
  },
  "toc": {
   "base_numbering": 1,
   "nav_menu": {},
   "number_sections": true,
   "sideBar": true,
   "skip_h1_title": false,
   "title_cell": "Table of Contents",
   "title_sidebar": "Contents",
   "toc_cell": false,
   "toc_position": {},
   "toc_section_display": true,
   "toc_window_display": false
  }
 },
 "nbformat": 4,
 "nbformat_minor": 2
}
