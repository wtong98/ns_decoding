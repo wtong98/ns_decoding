{
 "cells": [
  {
   "cell_type": "code",
   "execution_count": 1,
   "metadata": {},
   "outputs": [
    {
     "name": "stderr",
     "output_type": "stream",
     "text": [
      "SoX could not be found!\n",
      "\n",
      "    If you do not have SoX, proceed here:\n",
      "     - - - http://sox.sourceforge.net/ - - -\n",
      "\n",
      "    If you do (or think that you should) have SoX, double-check your\n",
      "    path variables.\n",
      "    \n"
     ]
    }
   ],
   "source": [
    "import torch\n",
    "import torch.nn as nn\n",
    "import torch.nn.functional as F\n",
    "import torch.optim as optim\n",
    "\n",
    "import audtorch.metrics.functional as audtorch\n",
    "import time\n",
    "import numpy as np\n",
    "from tqdm import tnrange, tqdm_notebook\n",
    "from sklearn.decomposition import PCA\n",
    "import os\n",
    "import matplotlib.pyplot as plt\n"
   ]
  },
  {
   "cell_type": "code",
   "execution_count": 2,
   "metadata": {},
   "outputs": [],
   "source": [
    "\"\"\"\n",
    "Linear Neural Net Parameters:\n",
    "\"\"\"\n",
    "\n",
    "k_dim = 7\n",
    "p_dim = 95*146\n",
    "f_dim = 2\n",
    "t_dim = 50\n",
    "batch_size = 32\n",
    "unit_no = 2094\n",
    "\n",
    "save_dir = \"/ssd/joon/2017_11_29_ns/yass/reduced_rank/\""
   ]
  },
  {
   "cell_type": "markdown",
   "metadata": {},
   "source": [
    "# Parameters Initialization"
   ]
  },
  {
   "cell_type": "code",
   "execution_count": 3,
   "metadata": {},
   "outputs": [
    {
     "data": {
      "application/vnd.jupyter.widget-view+json": {
       "model_id": "4f4351e84fe348afa2091c3a9b82aafe",
       "version_major": 2,
       "version_minor": 0
      },
      "text/plain": [
       "HBox(children=(IntProgress(value=0, max=750), HTML(value='')))"
      ]
     },
     "metadata": {},
     "output_type": "display_data"
    },
    {
     "name": "stdout",
     "output_type": "stream",
     "text": [
      "\n"
     ]
    }
   ],
   "source": [
    "W_init = np.load(\"/ssd/joon/2017_11_29_ns/yass/weights/yass_smooth_4_weights.npy\") # (2n+1 x p)\n",
    "S_init = np.load(\"/ssd/joon/2017_11_29_ns/yass/neural/yass_50_train_neural.npy\") # (m x n x 50)\n",
    "sorted_units = np.load(\"/ssd/joon/2017_11_29_ns/yass/yass_weight_sorted_units.npy\")\n",
    "\n",
    "neural = S_init.reshape((S_init.shape[0], S_init.shape[1] * S_init.shape[2]))\n",
    "image_no = S_init.shape[0]\n",
    "unit_no = S_init.shape[1]\n",
    "\n",
    "images = np.load(\"/ssd/joon/2017_11_29_ns/images/smooth_train_images.npy\") # (m x p)\n",
    "\n",
    "G_init = np.empty((2*unit_no, 50))\n",
    "\n",
    "for i in tnrange(unit_no):\n",
    "    unit = sorted_units[i]\n",
    "    \n",
    "    Wn = W_init[2*unit : 2*(unit+1) , :].T\n",
    "    I = images\n",
    "    IWn = np.matmul(I, Wn)\n",
    "    \n",
    "    Sn = S_init[:,unit,:]\n",
    "    Gn = np.matmul(np.linalg.pinv(Sn) , IWn)\n",
    "    \n",
    "    G_init[2*i : 2*(i+1) , :] = Gn.T\n",
    "\n",
    "np.save(os.path.join(save_dir, \"yass_G_750_init.npy\"), G_init)"
   ]
  },
  {
   "cell_type": "code",
   "execution_count": 8,
   "metadata": {},
   "outputs": [],
   "source": [
    "G_init = np.load(\"/ssd/joon/2017_11_29_ns/yass/reduced_rank/yass_G_750_init.npy\") # (2n x 50)\n",
    "\n",
    "G_pca = PCA(n_components = k_dim)\n",
    "G_pca.fit(G_init)\n",
    "\n",
    "U_init = G_pca.transform(G_init)\n",
    "V_init = G_pca.components_\n",
    "\n",
    "np.save(os.path.join(save_dir, \"yass_k10_U_750_init.npy\"), U_init)\n",
    "np.save(os.path.join(save_dir, \"yass_k10_V_750_init.npy\"), V_init)"
   ]
  },
  {
   "cell_type": "markdown",
   "metadata": {},
   "source": [
    "# Parameters Initialization 2 (Y_i S_i)"
   ]
  },
  {
   "cell_type": "code",
   "execution_count": 20,
   "metadata": {},
   "outputs": [
    {
     "data": {
      "application/vnd.jupyter.widget-view+json": {
       "model_id": "f66e2471d216489db56889f0f12553d9",
       "version_major": 2,
       "version_minor": 0
      },
      "text/plain": [
       "HBox(children=(IntProgress(value=0, max=2094), HTML(value='')))"
      ]
     },
     "metadata": {},
     "output_type": "display_data"
    },
    {
     "name": "stdout",
     "output_type": "stream",
     "text": [
      "\n"
     ]
    }
   ],
   "source": [
    "W_init = np.load(\"/ssd/joon/2017_11_29_ns/yass/weights/yass_smooth_4_weights.npy\")\n",
    "I = np.load(\"/ssd/joon/2017_11_29_ns/images/smooth_train_images.npy\")\n",
    "\n",
    "\n",
    "image_no = I.shape[0]\n",
    "unit_no = W_init.shape[0]//2\n",
    "\n",
    "IW = np.empty((2*unit_no,image_no))\n",
    "\n",
    "for i in tnrange(unit_no):\n",
    "    W_n = W_init[2*i : 2*(i+1) , :]\n",
    "    IW_n = np.matmul(W_n , I.T)\n",
    "    IW[2*i : 2*(i+1) , :] = IW_n\n",
    "    \n",
    "#IW_mean = np.mean(IW, axis=1).reshape((2*unit_no, 1))\n",
    "IW_mean = np.mean(IW,axis=0).reshape((1, image_no))\n",
    "\n",
    "IW = IW - IW_mean\n",
    "\n",
    "save_dir = \"/home/joon/tmp_2017_11_29_ns/yass/reduced_rank/\"\n",
    "np.save(os.path.join(save_dir, \"yass_IW_init.npy\"), IW)"
   ]
  },
  {
   "cell_type": "code",
   "execution_count": 75,
   "metadata": {},
   "outputs": [
    {
     "data": {
      "application/vnd.jupyter.widget-view+json": {
       "model_id": "4ff6a456900b44249ccbcd0820ec0ab0",
       "version_major": 2,
       "version_minor": 0
      },
      "text/plain": [
       "HBox(children=(IntProgress(value=0, max=2094), HTML(value='')))"
      ]
     },
     "metadata": {},
     "output_type": "display_data"
    },
    {
     "name": "stdout",
     "output_type": "stream",
     "text": [
      "\n"
     ]
    },
    {
     "data": {
      "application/vnd.jupyter.widget-view+json": {
       "model_id": "a11395675dbc499b8d7ad8b85c479e0f",
       "version_major": 2,
       "version_minor": 0
      },
      "text/plain": [
       "HBox(children=(IntProgress(value=0, max=4188), HTML(value='')))"
      ]
     },
     "metadata": {},
     "output_type": "display_data"
    },
    {
     "name": "stdout",
     "output_type": "stream",
     "text": [
      "\n",
      "(4188, 49)\n"
     ]
    }
   ],
   "source": [
    "IW_init = np.load(\"/ssd/joon/2017_11_29_ns/yass/reduced_rank/yass_IW_init.npy\")\n",
    "S = np.load(\"/ssd/joon/2017_11_29_ns/yass/neural/yass_50_train_neural.npy\")\n",
    "save_dir = \"/ssd/joon/2017_11_29_ns/yass/reduced_rank/\"\n",
    "\n",
    "YS = np.empty((2*unit_no, 49))\n",
    "\n",
    "for i in tnrange(unit_no):\n",
    "    Yi = IW_init[2*i : 2*(i+1) , :]\n",
    "    Si = S[:,i,:]\n",
    "    Si_mean = np.mean(Si, axis=1).reshape((Si.shape[0], 1))\n",
    "    Si = Si - Si_mean\n",
    "    \n",
    "    Yi_Si = np.matmul(Yi, Si)\n",
    "    YS[2*i : 2*(i+1) , :] = Yi_Si[:,:-1]\n",
    "    \n",
    "YS = YS / 100000\n",
    "\n",
    "for i in tnrange(YS.shape[0]):\n",
    "    Yi = YS[i,:]\n",
    "    Yi_l10 = np.mean(YS[i,-30:])\n",
    "    Yi = Yi - Yi_l10\n",
    "    \n",
    "    Yi_SD = np.std(Yi)\n",
    "    Yi = Yi / Yi_SD\n",
    "    YS[i,:] = Yi\n",
    "\n",
    "print(YS.shape)\n",
    "\n",
    "np.save(os.path.join(save_dir, \"yass_YS_init.npy\"), YS)\n",
    "    "
   ]
  },
  {
   "cell_type": "code",
   "execution_count": 9,
   "metadata": {},
   "outputs": [],
   "source": [
    "def plot_ys_init(YS_file, sorted_units_file, save_dir):\n",
    "    YS = np.load(YS_file)\n",
    "    sorted_units = np.load(sorted_units_file)\n",
    "    \n",
    "    ids = sorted_units[:4]\n",
    "    unit_ids = np.empty(ids.shape[0]*2)\n",
    "    \n",
    "    for i in range(ids.shape[0]):\n",
    "        unit = ids[i]\n",
    "        unit_ids[i*2] = np.int(2*i)\n",
    "        unit_ids[i*2 + 1] = np.int(2*i) + 1\n",
    "    \n",
    "    unit_ids = unit_ids.astype(int)\n",
    "\n",
    "    plt.imshow(YS[unit_ids, :])\n",
    "    plt.colorbar()\n",
    "    \n",
    "    \n",
    "    \n",
    "    "
   ]
  },
  {
   "cell_type": "code",
   "execution_count": 10,
   "metadata": {},
   "outputs": [
    {
     "data": {
      "image/png": "[encoded data removed]",
      "text/plain": [
       "<Figure size 432x288 with 2 Axes>"
      ]
     },
     "metadata": {
      "needs_background": "light"
     },
     "output_type": "display_data"
    }
   ],
   "source": [
    "YS_file = \"/ssd/joon/2017_11_29_ns/yass/reduced_rank/yass_G_750_init.npy\"\n",
    "save_dir = \"/ssd/joon/2017_11_29_ns/figures/\"\n",
    "sorted_units_file = \"/ssd/joon/2017_11_29_ns/yass/yass_weight_sorted_units.npy\"\n",
    "\n",
    "\n",
    "\n",
    "plot_ys_init(YS_file, sorted_units_file, save_dir)"
   ]
  },
  {
   "cell_type": "code",
   "execution_count": 6,
   "metadata": {},
   "outputs": [
    {
     "name": "stdout",
     "output_type": "stream",
     "text": [
      "(2, 49)\n",
      "(4188, 2)\n"
     ]
    }
   ],
   "source": [
    "YS_init = np.load(\"/ssd/joon/2017_11_29_ns/yass/reduced_rank/yass_YS_init.npy\") # (2n x 49)\n",
    "#YS_init = YS_init[:,:30]\n",
    "\n",
    "YS_pca = PCA(n_components = k_dim)\n",
    "YS_pca.fit(YS_init)\n",
    "\n",
    "U_init = YS_pca.transform(YS_init)\n",
    "V_init = YS_pca.components_\n",
    "\n",
    "print(V_init.shape)\n",
    "print(U_init.shape)\n",
    "\n",
    "np.save(os.path.join(save_dir, \"yass_k7_U_init.npy\"), U_init)\n",
    "np.save(os.path.join(save_dir, \"yass_k7_V_init.npy\"), V_init)"
   ]
  },
  {
   "cell_type": "code",
   "execution_count": 11,
   "metadata": {},
   "outputs": [
    {
     "data": {
      "image/png": "[encoded data removed]",
      "text/plain": [
       "<Figure size 432x288 with 2 Axes>"
      ]
     },
     "metadata": {
      "needs_background": "light"
     },
     "output_type": "display_data"
    }
   ],
   "source": [
    "V_init = np.load(\"/ssd/joon/2017_11_29_ns/yass/reduced_rank/yass_k10_V_750_init.npy\")\n",
    "plt.imshow(V_init.T)\n",
    "plt.colorbar()\n",
    "\n",
    "def plot_u_init(U_file, sorted_units_file, save_dir):\n",
    "    U = np.load(U_file)\n",
    "    sorted_units = np.load(sorted_units_file)\n",
    "    \n",
    "    ids = sorted_units[:35]\n",
    "    unit_ids = np.empty(ids.shape[0]*2)\n",
    "    \n",
    "    for i in range(ids.shape[0]):\n",
    "        unit = ids[i]\n",
    "        unit_ids[i*2] = np.int(2*unit)\n",
    "        unit_ids[i*2 + 1] = np.int(2*unit) + 1\n",
    "    \n",
    "    unit_ids = unit_ids.astype(int)\n",
    "\n",
    "    plt.figure(figsize = (5,8))\n",
    "    plt.imshow(U[unit_ids, :])\n",
    "    plt.colorbar()\n",
    "    \n",
    "\n"
   ]
  },
  {
   "cell_type": "code",
   "execution_count": 8,
   "metadata": {},
   "outputs": [
    {
     "data": {
      "image/png": "[encoded data removed]",
      "text/plain": [
       "<Figure size 360x576 with 2 Axes>"
      ]
     },
     "metadata": {
      "needs_background": "light"
     },
     "output_type": "display_data"
    }
   ],
   "source": [
    "U_file = \"/ssd/joon/2017_11_29_ns/yass/reduced_rank/yass_k7_U_init.npy\"\n",
    "sorted_units_file = \"/ssd/joon/2017_11_29_ns/yass/yass_weight_sorted_units.npy\"\n",
    "save_dir = \"/ssd/joon/2017_11_29_ns/figures/\"\n",
    "\n",
    "plot_u_init(U_file, sorted_units_file, save_dir)"
   ]
  },
  {
   "cell_type": "markdown",
   "metadata": {},
   "source": [
    "## G_PCA Graphs"
   ]
  },
  {
   "cell_type": "code",
   "execution_count": 8,
   "metadata": {},
   "outputs": [
    {
     "data": {
      "text/plain": [
       "'\\nplt.plot(np.arange(var_ratios.shape[0]), cum_var_ratios)\\nplt.xticks(np.arange(0, 51, 5))\\nplt.yticks(np.arange(0,1.01, 0.1))\\nplt.xlabel(\"Principal Components\")\\nplt.ylabel(\"% Variance Explained\")\\n'"
      ]
     },
     "execution_count": 8,
     "metadata": {},
     "output_type": "execute_result"
    },
    {
     "data": {
      "image/png": "[encoded data removed]",
      "text/plain": [
       "<Figure size 576x432 with 1 Axes>"
      ]
     },
     "metadata": {
      "needs_background": "light"
     },
     "output_type": "display_data"
    }
   ],
   "source": [
    "G_init = np.load(\"/ssd/joon/2017_11_29_ns/yass/reduced_rank/yass_hand_UV_init.npy\") # (2n x 50)\n",
    "\n",
    "G_pca = PCA()\n",
    "G_pca.fit(G_init)\n",
    "\n",
    "U_init = G_pca.transform(G_init)\n",
    "V_init = G_pca.components_\n",
    "var_ratios = G_pca.explained_variance_ratio_\n",
    "cum_var_ratios = np.empty((var_ratios.shape[0]))\n",
    "\n",
    "for i in range(var_ratios.shape[0]):\n",
    "    cum_ratio = np.sum(var_ratios[:i])\n",
    "    cum_var_ratios[i] = cum_ratio\n",
    "\n",
    "plt.figure(figsize = (8,6))\n",
    "plt.bar(np.arange(var_ratios.shape[0]), var_ratios)\n",
    "plt.xticks(np.arange(0, 51, 5))\n",
    "plt.yticks(np.arange(0,1, 0.1))\n",
    "plt.xlabel(\"Principal Components\")\n",
    "plt.ylabel(\"% Variance Explained\")\n",
    "plt.ylim(0,0.1)\n",
    "\n",
    "\"\"\"\n",
    "plt.plot(np.arange(var_ratios.shape[0]), cum_var_ratios)\n",
    "plt.xticks(np.arange(0, 51, 5))\n",
    "plt.yticks(np.arange(0,1.01, 0.1))\n",
    "plt.xlabel(\"Principal Components\")\n",
    "plt.ylabel(\"% Variance Explained\")\n",
    "\"\"\""
   ]
  },
  {
   "cell_type": "markdown",
   "metadata": {},
   "source": [
    "# Neural Network Optimization"
   ]
  },
  {
   "cell_type": "code",
   "execution_count": 3,
   "metadata": {},
   "outputs": [],
   "source": [
    "\n",
    "\n",
    "class LinearNet(nn.Module):\n",
    "    def __init__(self, unit_no, t_dim, k_dim, f_dim, p_dim):\n",
    "        super(LinearNet, self).__init__()\n",
    "        self.unit_no = unit_no\n",
    "        self.t_dim = t_dim\n",
    "        self.k_dim = k_dim\n",
    "        self.f_dim = f_dim\n",
    "        self.p_dim = p_dim\n",
    "        \n",
    "        self.V = nn.Linear(t_dim, k_dim).cuda()\n",
    "        self.U_list = nn.ModuleList([nn.Linear(k_dim, f_dim).cuda() for i in range(unit_no)]).cuda()\n",
    "        self.W_list = nn.ModuleList([nn.Linear(f_dim, p_dim).cuda() for i in range(unit_no)]).cuda()\n",
    "        \n",
    "    def forward(self, S):\n",
    "        self.batch = S.shape[0]\n",
    "        \n",
    "        ###### (50n) --> (kn) ####\n",
    "        VS = torch.empty(self.batch, self.k_dim * self.unit_no).cuda()\n",
    "        \n",
    "        for i in range(self.unit_no):\n",
    "            S_i = S[:, self.t_dim*i : self.t_dim*(i+1)].float().cuda()\n",
    "            VS_i = self.V(S_i)\n",
    "            VS[:, self.k_dim*i : self.k_dim*(i+1)] = VS_i\n",
    "            \n",
    "        ###### (kn) --> (2n) #####\n",
    "        UVS = torch.empty(self.batch, self.f_dim * self.unit_no).cuda()\n",
    "            \n",
    "        for i in range(self.unit_no):\n",
    "            VS_i = VS[:, self.k_dim*i : self.k_dim*(i+1)].float().cuda()\n",
    "            U_i_func = self.U_list[i]\n",
    "            UVS_i = U_i_func(VS_i)\n",
    "            UVS[:, self.f_dim*i : self.f_dim*(i+1)] = UVS_i\n",
    "        \n",
    "        ##### (2n) --> (p) #####\n",
    "        I = torch.zeros(self.batch, self.p_dim).cuda()\n",
    " \n",
    "        for i in range(self.unit_no):\n",
    "            UVS_i = UVS[:, self.f_dim*i : self.f_dim*(i+1)].float().cuda()\n",
    "            W_i_func = self.W_list[i]\n",
    "            I_i = W_i_func(UVS_i)\n",
    "            I += I_i\n",
    "        \n",
    "        return I.float()"
   ]
  },
  {
   "cell_type": "code",
   "execution_count": 4,
   "metadata": {},
   "outputs": [
    {
     "ename": "FileNotFoundError",
     "evalue": "[Errno 2] No such file or directory: '/ssd/joon/2017_11_29_ns/yass/weights/yass_smooth_4_weights.npy'",
     "output_type": "error",
     "traceback": [
      "\u001b[0;31m---------------------------------------------------------------------------\u001b[0m",
      "\u001b[0;31mFileNotFoundError\u001b[0m                         Traceback (most recent call last)",
      "\u001b[0;32m<ipython-input-4-3e55789db511>\u001b[0m in \u001b[0;36m<module>\u001b[0;34m\u001b[0m\n\u001b[1;32m      3\u001b[0m \"\"\"\n\u001b[1;32m      4\u001b[0m \u001b[0;34m\u001b[0m\u001b[0m\n\u001b[0;32m----> 5\u001b[0;31m \u001b[0mW_init\u001b[0m \u001b[0;34m=\u001b[0m \u001b[0mnp\u001b[0m\u001b[0;34m.\u001b[0m\u001b[0mload\u001b[0m\u001b[0;34m(\u001b[0m\u001b[0;34m\"/ssd/joon/2017_11_29_ns/yass/weights/yass_smooth_4_weights.npy\"\u001b[0m\u001b[0;34m)\u001b[0m\u001b[0;34m\u001b[0m\u001b[0;34m\u001b[0m\u001b[0m\n\u001b[0m\u001b[1;32m      6\u001b[0m \u001b[0mW_init\u001b[0m \u001b[0;34m=\u001b[0m \u001b[0mtorch\u001b[0m\u001b[0;34m.\u001b[0m\u001b[0mfrom_numpy\u001b[0m\u001b[0;34m(\u001b[0m\u001b[0mW_init\u001b[0m\u001b[0;34m)\u001b[0m\u001b[0;34m\u001b[0m\u001b[0;34m\u001b[0m\u001b[0m\n\u001b[1;32m      7\u001b[0m \u001b[0;34m\u001b[0m\u001b[0m\n",
      "\u001b[0;32m~/anaconda3/lib/python3.7/site-packages/numpy/lib/npyio.py\u001b[0m in \u001b[0;36mload\u001b[0;34m(file, mmap_mode, allow_pickle, fix_imports, encoding)\u001b[0m\n\u001b[1;32m    426\u001b[0m         \u001b[0mown_fid\u001b[0m \u001b[0;34m=\u001b[0m \u001b[0;32mFalse\u001b[0m\u001b[0;34m\u001b[0m\u001b[0;34m\u001b[0m\u001b[0m\n\u001b[1;32m    427\u001b[0m     \u001b[0;32melse\u001b[0m\u001b[0;34m:\u001b[0m\u001b[0;34m\u001b[0m\u001b[0;34m\u001b[0m\u001b[0m\n\u001b[0;32m--> 428\u001b[0;31m         \u001b[0mfid\u001b[0m \u001b[0;34m=\u001b[0m \u001b[0mopen\u001b[0m\u001b[0;34m(\u001b[0m\u001b[0mos_fspath\u001b[0m\u001b[0;34m(\u001b[0m\u001b[0mfile\u001b[0m\u001b[0;34m)\u001b[0m\u001b[0;34m,\u001b[0m \u001b[0;34m\"rb\"\u001b[0m\u001b[0;34m)\u001b[0m\u001b[0;34m\u001b[0m\u001b[0;34m\u001b[0m\u001b[0m\n\u001b[0m\u001b[1;32m    429\u001b[0m         \u001b[0mown_fid\u001b[0m \u001b[0;34m=\u001b[0m \u001b[0;32mTrue\u001b[0m\u001b[0;34m\u001b[0m\u001b[0;34m\u001b[0m\u001b[0m\n\u001b[1;32m    430\u001b[0m \u001b[0;34m\u001b[0m\u001b[0m\n",
      "\u001b[0;31mFileNotFoundError\u001b[0m: [Errno 2] No such file or directory: '/ssd/joon/2017_11_29_ns/yass/weights/yass_smooth_4_weights.npy'"
     ]
    }
   ],
   "source": [
    "\"\"\"\n",
    "MODEL, OPTIMIZER, DATA\n",
    "\"\"\"\n",
    "\n",
    "W_init = np.load(\"/ssd/joon/2017_11_29_ns/yass/weights/yass_smooth_4_weights.npy\")\n",
    "W_init = torch.from_numpy(W_init)\n",
    "\n",
    "\n",
    "\n",
    "U_init = np.load(\"/ssd/joon/2017_11_29_ns/yass/reduced_rank/yass_k10_U_750_init.npy\")\n",
    "U_init = torch.from_numpy(U_init)\n",
    "\n",
    "V_init = np.load(\"/ssd/joon/2017_11_29_ns/yass/reduced_rank/yass_k10_V_750_init.npy\")\n",
    "V_init = torch.from_numpy(V_init)\n",
    "#V_init = torch.cat((V_init.float(), 0.1*torch.randn(k_dim, 1).float()), dim=1)\n",
    "\n",
    "\"\"\"\n",
    "U_init = torch.eye(2)\n",
    "U_init = U_init.repeat(unit_no, 1)\n",
    "V_init = torch.zeros(2, 50)\n",
    "V_init[0,3:16] = 1\n",
    "V_init[1,17:31] = 1\n",
    "\"\"\"\n",
    "\n",
    "S_init = np.load(\"/ssd/joon/2017_11_29_ns/yass/neural/yass_50_train_neural.npy\") # (m x n x 50)\n",
    "\n",
    "neural = S_init.reshape((S_init.shape[0], S_init.shape[1] * S_init.shape[2]))[:9792,:]\n",
    "neural = torch.from_numpy(neural)\n",
    "image_no = neural.shape[0]\n",
    "unit_no = S_init.shape[1]\n",
    "\n",
    "images = np.load(\"/ssd/joon/2017_11_29_ns/images/smooth_train_images.npy\") # (m x p)\n",
    "images = torch.from_numpy(images[:9792,:])\n",
    "\n",
    "batch_count = int(image_no / batch_size)\n",
    "\n",
    "model = LinearNet(unit_no, t_dim, k_dim, f_dim, p_dim)\n",
    "model = model.float()\n",
    "model.cuda()\n",
    "\n",
    "optimizer = optim.Adam(model.parameters(), lr = 0.001)\n",
    "\n",
    "milestones = [batch_count // 2, batch_count * 3 // 4, batch_count * 7//8]\n",
    "lr_decay = 0.5\n",
    "\n",
    "scheduler = torch.optim.lr_scheduler.MultiStepLR(optimizer, milestones,\n",
    "                                                gamma=lr_decay)\n",
    "\n",
    "\n",
    "\n"
   ]
  },
  {
   "cell_type": "code",
   "execution_count": null,
   "metadata": {},
   "outputs": [],
   "source": [
    "model.state_dict()[\"V.weight\"][:] = V_init\n",
    "\n",
    "for i in tnrange(unit_no):\n",
    "    model.state_dict()[\"U_list.\"+str(i)+\".weight\"][:] = U_init[2*i : 2*(i+1),  : ]\n",
    "    model.state_dict()[\"W_list.\"+str(i)+\".weight\"][:] = W_init[ 2*i : 2*(i+1) , :].T\n",
    "    \n"
   ]
  },
  {
   "cell_type": "code",
   "execution_count": null,
   "metadata": {},
   "outputs": [],
   "source": [
    "##### FOR K=2 BASELINE COMPARISON\n",
    "####\n",
    "#model.V.weight.requires_grad = False\n",
    "#model.V.bias.requires_grad = False\n",
    "\n",
    "#for i in tnrange(unit_no):\n",
    "    #model.U_list[i].weight.requires_grad = False\n",
    "    #model.U_list[i].bias.requires_grad = False\n",
    "#####\n",
    "#####"
   ]
  },
  {
   "cell_type": "code",
   "execution_count": null,
   "metadata": {
    "scrolled": true
   },
   "outputs": [],
   "source": [
    "\"\"\"\n",
    "TRAINING LOOP\n",
    "\"\"\"\n",
    "batch_corr_array = np.empty((batch_count * 1, 1))\n",
    "\n",
    "batch_ids_1 = np.arange(9792)\n",
    "np.random.shuffle(batch_ids_1)\n",
    "batch_ids_1 = batch_ids_1.reshape((-1,32))\n",
    "\n",
    "batch_ids_2 = np.arange(9792)\n",
    "np.random.shuffle(batch_ids_2)\n",
    "batch_ids_2 = batch_ids_2.reshape((-1,32))\n",
    "\n",
    "shuffled_ids = np.vstack((batch_ids_1, batch_ids_2))\n",
    "shuffled_ids = torch.from_numpy(shuffled_ids).cuda()\n",
    "\n",
    "for i in range(batch_count * 1):\n",
    "    start_time = time.time()\n",
    "    \n",
    "    ids = shuffled_ids[i,:]\n",
    "    \n",
    "    batch_neural = neural[ids,:].cuda()\n",
    "    batch_images = images[ids,:].cuda()\n",
    "    \n",
    "    #batch_neural = neural[batch_size*i : batch_size*(i+1), :].cuda()\n",
    "    #batch_images = images[batch_size*i : batch_size*(i+1), :].cuda()\n",
    "    \n",
    "    optimizer.zero_grad()\n",
    "    decoded = model(batch_neural.float())\n",
    "    \n",
    "    batch_corr = audtorch.pearsonr(batch_images, decoded)\n",
    "    mean_batch_corr = torch.mean(batch_corr)\n",
    "    #loss_fn = torch.nn.MSELoss()\n",
    "    #loss = loss_fn(batch_images, decoded)\n",
    "    \n",
    "    loss = -torch.log(mean_batch_corr*0.5 + 0.25)\n",
    "    \n",
    "    loss.backward()\n",
    "    optimizer.step()\n",
    "    scheduler.step()\n",
    "    \n",
    "    batch_corr_array[i] = mean_batch_corr.detach().cpu().numpy()\n",
    "    \n",
    "    end_time = time.time()\n",
    "    duration = end_time - start_time\n",
    "    \n",
    "    print(\"Iter \" +str(i)+ \" Batch_Corr: \" + str(mean_batch_corr.item()) + \" , Time: \" +str(duration))\n",
    "    \n",
    "np.save(os.path.join(save_dir, \"yass_I2_lnn_batch_corr.npy\"), batch_corr_array)"
   ]
  },
  {
   "cell_type": "code",
   "execution_count": 7,
   "metadata": {},
   "outputs": [],
   "source": [
    "torch.save(model.state_dict(), os.path.join(save_dir, \"yass_I2_reduced_lnn_model.pt\"))"
   ]
  },
  {
   "cell_type": "code",
   "execution_count": 9,
   "metadata": {},
   "outputs": [
    {
     "data": {
      "text/plain": [
       "[<matplotlib.lines.Line2D at 0x7f2d5126e550>]"
      ]
     },
     "execution_count": 9,
     "metadata": {},
     "output_type": "execute_result"
    },
    {
     "data": {
      "image/png": "[encoded data removed]",
      "text/plain": [
       "<Figure size 432x288 with 1 Axes>"
      ]
     },
     "metadata": {
      "needs_background": "light"
     },
     "output_type": "display_data"
    }
   ],
   "source": [
    "corr_array_1 = np.load(\"/ssd/joon/2017_11_29_ns/yass/reduced_rank/yass_k10_lnn_batch_corr.npy\")\n",
    "corr_array_2 = np.load(\"/ssd/joon/2017_11_29_ns/yass/reduced_rank/yass_I2_lnn_batch_corr.npy\")\n",
    "corr_array_3 = np.load(\"/ssd/joon/2017_11_29_ns/yass/reduced_rank/yass_k7_lnn_batch_corr.npy\")\n",
    "plt.plot(np.arange(corr_array_1.shape[0]), corr_array_1, color = \"red\")\n",
    "plt.plot(np.arange(corr_array_2.shape[0]), corr_array_2, color = \"blue\")\n",
    "plt.plot(np.arange(corr_array_3.shape[0]), corr_array_3, color = \"orange\")"
   ]
  },
  {
   "cell_type": "code",
   "execution_count": null,
   "metadata": {},
   "outputs": [],
   "source": []
  }
 ],
 "metadata": {
  "kernelspec": {
   "display_name": "Python 3",
   "language": "python",
   "name": "python3"
  },
  "language_info": {
   "codemirror_mode": {
    "name": "ipython",
    "version": 3
   },
   "file_extension": ".py",
   "mimetype": "text/x-python",
   "name": "python",
   "nbconvert_exporter": "python",
   "pygments_lexer": "ipython3",
   "version": "3.7.4"
  },
  "toc": {
   "base_numbering": 1,
   "nav_menu": {},
   "number_sections": true,
   "sideBar": true,
   "skip_h1_title": false,
   "title_cell": "Table of Contents",
   "title_sidebar": "Contents",
   "toc_cell": false,
   "toc_position": {},
   "toc_section_display": true,
   "toc_window_display": false
  }
 },
 "nbformat": 4,
 "nbformat_minor": 2
}
